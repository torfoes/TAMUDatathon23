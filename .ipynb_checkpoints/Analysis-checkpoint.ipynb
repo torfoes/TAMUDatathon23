{
 "cells": [
  {
   "cell_type": "code",
   "execution_count": 1,
   "metadata": {},
   "outputs": [
    {
     "name": "stdout",
     "output_type": "stream",
     "text": [
      "(148004, 784) (149736, 784) (137847, 784)\n"
     ]
    }
   ],
   "source": [
    "import numpy as np\n",
    "data0 = np.load('quick_draw_data/ambulance.npy')\n",
    "data1 = np.load('quick_draw_data/angel.npy')\n",
    "data2 = np.load('quick_draw_data/animal migration.npy')\n",
    "print(data0.shape, data1.shape, data2.shape)"
   ]
  },
  {
   "cell_type": "code",
   "execution_count": 2,
   "metadata": {
    "collapsed": false,
    "jupyter": {
     "outputs_hidden": false
    }
   },
   "outputs": [
    {
     "name": "stdout",
     "output_type": "stream",
     "text": [
      "148004\n"
     ]
    },
    {
     "data": {
      "image/png": "[encoded data removed]",
      "text/plain": [
       "<Figure size 640x480 with 1 Axes>"
      ]
     },
     "metadata": {},
     "output_type": "display_data"
    },
    {
     "name": "stdout",
     "output_type": "stream",
     "text": [
      "149736\n"
     ]
    },
    {
     "data": {
      "image/png": "[encoded data removed]",
      "text/plain": [
       "<Figure size 640x480 with 1 Axes>"
      ]
     },
     "metadata": {},
     "output_type": "display_data"
    },
    {
     "name": "stdout",
     "output_type": "stream",
     "text": [
      "137847\n"
     ]
    },
    {
     "data": {
      "image/png": "[encoded data removed]",
      "text/plain": [
       "<Figure size 640x480 with 1 Axes>"
      ]
     },
     "metadata": {},
     "output_type": "display_data"
    }
   ],
   "source": [
    "import matplotlib.pyplot as plt\n",
    "\n",
    "print(len(data0))\n",
    "# Load the first image from the loaded data\n",
    "image = data0[3].reshape(28, 28)\n",
    "plt.imshow(image, cmap='gray')\n",
    "plt.axis('off')  # Turn off the axis numbers\n",
    "plt.show()\n",
    "print(len(data1))\n",
    "# Load the first image from the loaded data\n",
    "image = data1[3].reshape(28, 28)\n",
    "plt.imshow(image, cmap='gray')\n",
    "plt.axis('off')  # Turn off the axis numbers\n",
    "plt.show()\n",
    "print(len(data2))\n",
    "# Load the first image from the loaded data\n",
    "image = data2[3].reshape(28, 28)\n",
    "plt.imshow(image, cmap='gray')\n",
    "plt.axis('off')  # Turn off the axis numbers\n",
    "plt.show()\n"
   ]
  },
  {
   "cell_type": "code",
   "execution_count": null,
   "metadata": {
    "collapsed": false,
    "jupyter": {
     "outputs_hidden": false
    }
   },
   "outputs": [
    {
     "name": "stdout",
     "output_type": "stream",
     "text": [
      "[1, 100] training loss: 3.954\n",
      "[1, 200] training loss: 3.922\n",
      "[1, 300] training loss: 3.928\n",
      "[1, 400] training loss: 3.924\n",
      "[1, 500] training loss: 3.923\n",
      "[1, 600] training loss: 3.926\n",
      "[1, 700] training loss: 3.925\n",
      "[1, 800] training loss: 3.922\n",
      "[1, 900] training loss: 3.926\n",
      "[1, 1000] training loss: 3.924\n",
      "[1, 1100] training loss: 3.924\n",
      "[1, 1200] training loss: 3.926\n",
      "[1, 1300] training loss: 3.926\n",
      "[1, 1400] training loss: 3.926\n",
      "[1, 1500] training loss: 3.925\n",
      "[1, 1600] training loss: 3.925\n",
      "[1, 1700] training loss: 3.925\n",
      "[1, 1800] training loss: 3.923\n",
      "[1, 1900] training loss: 3.926\n",
      "[1, 2000] training loss: 3.924\n"
     ]
    }
   ],
   "source": [
    "import numpy as np\n",
    "import torch\n",
    "import torch.nn as nn\n",
    "import torch.optim as optim\n",
    "from torch.utils.data import TensorDataset, DataLoader, random_split\n",
    "import torchvision.transforms as transforms\n",
    "from datasets.flat import FlattenedDoodleSet\n",
    "import matplotlib.pyplot as plt\n",
    "\n",
    "from torchvision.transforms import functional as F\n",
    "\n",
    "# Custom transform to handle 1D and 2D numpy arrays\n",
    "class AddChannelDim:\n",
    "    def __call__(self, pic):\n",
    "        if isinstance(pic, np.ndarray):\n",
    "            if pic.ndim == 1:  # If 1D numpy array\n",
    "                side_length = int(np.sqrt(len(pic)))  # Assuming the doodles are square images\n",
    "                pic = pic.reshape(side_length, side_length)\n",
    "            if pic.ndim == 2:  # Now check if the array is 2D\n",
    "                pic = np.expand_dims(pic, axis=2)  # Add a channel dimension\n",
    "        return pic\n",
    "\n",
    "# Rest of the code remains unchanged...\n",
    "\n",
    "\n",
    "# Data Augmentation\n",
    "transform = transforms.Compose([\n",
    "    AddChannelDim(),          # Add channel dimension if 2D numpy array\n",
    "    transforms.ToPILImage(),  # Convert numpy.ndarray to PIL.Image\n",
    "    transforms.RandomHorizontalFlip(),\n",
    "    transforms.RandomRotation(10),\n",
    "    transforms.RandomAffine(degrees=5, translate=(0.1, 0.1), scale=(0.9, 1.1)),\n",
    "    transforms.ColorJitter(brightness=0.2, contrast=0.2, saturation=0.2, hue=0.1),\n",
    "    transforms.ToTensor()  # Convert PIL.Image back to tensor for PyTorch\n",
    "])\n",
    "\n",
    "# Load full_dataset with the transform\n",
    "full_dataset = FlattenedDoodleSet(data_dir='./quick_draw_data', transform=transform)\n",
    "\n",
    "\n",
    "# Split into train, validation, and test datasets\n",
    "train_size = int(0.7 * len(full_dataset))\n",
    "val_size = int(0.15 * len(full_dataset))\n",
    "test_size = len(full_dataset) - train_size - val_size\n",
    "\n",
    "train_dataset, val_dataset, test_dataset = random_split(full_dataset, [train_size, val_size, test_size])\n",
    "\n",
    "# Define CNN\n",
    "class CNN(nn.Module):\n",
    "    def __init__(self, num_classes):\n",
    "        super(CNN, self).__init__()\n",
    "        self.conv1 = nn.Conv2d(1, 32, kernel_size=3, stride=1, padding=1)\n",
    "        self.conv2 = nn.Conv2d(32, 64, kernel_size=3, stride=1, padding=1)\n",
    "        self.conv3 = nn.Conv2d(64, 128, kernel_size=3, stride=1, padding=1)\n",
    "        self.dropout1 = nn.Dropout(0.5)\n",
    "        self.dropout2 = nn.Dropout(0.5)\n",
    "        self.fc1 = nn.Linear(1152, 128)\n",
    "        self.fc2 = nn.Linear(128, num_classes)\n",
    "        self.relu = nn.ReLU()\n",
    "        self.max_pool = nn.MaxPool2d(kernel_size=2, stride=2, padding=0)\n",
    "\n",
    "    def forward(self, x):\n",
    "        x = self.relu(self.conv1(x))\n",
    "        x = self.max_pool(x)\n",
    "        x = self.relu(self.conv2(x))\n",
    "        x = self.max_pool(x)\n",
    "        x = self.relu(self.conv3(x))\n",
    "        x = self.max_pool(x)\n",
    "        x = x.view(-1, 128 * 3 * 3)\n",
    "        x = self.dropout1(self.relu(self.fc1(x)))\n",
    "        x = self.dropout2(self.fc2(x))\n",
    "        return x\n",
    "\n",
    "# Initialize the model, loss function, and optimizer\n",
    "num_classes = len(full_dataset.class_to_idx)\n",
    "model = CNN(num_classes=num_classes)\n",
    "criterion = nn.CrossEntropyLoss()\n",
    "optimizer = optim.Adam(model.parameters(), lr=0.01, weight_decay=1e-6)\n",
    "\n",
    "# Train and validate\n",
    "train_loader = DataLoader(train_dataset, batch_size=64, shuffle=True)\n",
    "val_loader = DataLoader(val_dataset, batch_size=64, shuffle=False)\n",
    "num_epochs = 3\n",
    "\n",
    "best_val_loss = float('inf')\n",
    "for epoch in range(num_epochs):\n",
    "    model.train()\n",
    "    running_loss = 0.0\n",
    "    for i, (inputs, labels) in enumerate(train_loader):\n",
    "        optimizer.zero_grad()\n",
    "        outputs = model(inputs)\n",
    "        loss = criterion(outputs, labels)\n",
    "        loss.backward()\n",
    "        optimizer.step()\n",
    "        running_loss += loss.item()\n",
    "\n",
    "        if i % 100 == 99:\n",
    "            print(f\"[{epoch + 1}, {i + 1}] training loss: {running_loss / 100:.3f}\")\n",
    "            running_loss = 0.0\n",
    "\n",
    "    # Validate\n",
    "    model.eval()\n",
    "    val_loss = 0.0\n",
    "    with torch.no_grad():\n",
    "        for inputs, labels in val_loader:\n",
    "            outputs = model(inputs)\n",
    "            loss = criterion(outputs, labels)\n",
    "            val_loss += loss.item()\n",
    "\n",
    "    avg_val_loss = val_loss / len(val_loader)\n",
    "    print(f\"[{epoch + 1}] validation loss: {avg_val_loss:.3f}\")\n",
    "\n",
    "    # Early stopping based on validation loss\n",
    "    if avg_val_loss < best_val_loss:\n",
    "        best_val_loss = avg_val_loss\n",
    "    else:\n",
    "        print(\"Early stopping\")\n",
    "        break\n",
    "\n",
    "print(\"Finished Training\")\n",
    "\n",
    "# Test the model\n",
    "test_loader = DataLoader(test_dataset, batch_size=64)\n",
    "correct = 0\n",
    "total = 0\n",
    "with torch.no_grad():\n",
    "    for inputs, labels in test_loader:\n",
    "        outputs = model(inputs)\n",
    "        _, predicted = torch.max(outputs, 1)\n",
    "        total += labels.size(0)\n",
    "        correct += (predicted == labels).sum().item()\n",
    "\n",
    "print(f\"Accuracy on the test dataset: {100 * correct / total:.2f}%\")\n"
   ]
  },
  {
   "cell_type": "code",
   "execution_count": null,
   "metadata": {},
   "outputs": [],
   "source": []
  }
 ],
 "metadata": {
  "kernelspec": {
   "display_name": "Python 3 (ipykernel)",
   "language": "python",
   "name": "python3"
  },
  "language_info": {
   "codemirror_mode": {
    "name": "ipython",
    "version": 3
   },
   "file_extension": ".py",
   "mimetype": "text/x-python",
   "name": "python",
   "nbconvert_exporter": "python",
   "pygments_lexer": "ipython3",
   "version": "3.11.4"
  }
 },
 "nbformat": 4,
 "nbformat_minor": 4
}
